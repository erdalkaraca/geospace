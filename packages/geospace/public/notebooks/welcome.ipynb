{
  "cells": [
    {
      "cell_type": "markdown",
      "source": [
        "# Welcome to geo!space Jupyter Notebooks! 🎉\n",
        "\n",
        "Welcome to the **geo!space** notebook editor! This interactive notebook will guide you through the basics of using Jupyter notebooks in your browser.\n",
        "\n",
        "## What are Jupyter Notebooks?\n",
        "\n",
        "Jupyter notebooks combine **executable code**, **rich text**, **visualizations**, and **narrative text** in a single document. They're perfect for:\n",
        "\n",
        "- **Data analysis** and exploration\n",
        "- **Documentation** with executable examples\n",
        "- **Teaching** and learning programming\n",
        "- **Prototyping** and experimentation\n",
        "\n",
        "## How to Use This Notebook\n",
        "\n",
        "- **Run a cell**: Click the ▶️ play button on the left of each code cell\n",
        "- **Run all cells**: Click \"Run All\" button in the toolbar\n",
        "- **Edit code**: Click inside any code cell to modify it\n",
        "- **Edit markdown**: Double-click on any text cell like this one\n",
        "- **Add cells**: Use the + buttons to add cells before or after\n",
        "- **Delete cells**: Use the 🗑️ button to remove cells\n",
        "\n",
        "Let's get started! 👇"
      ],
      "metadata": {},
      "execution_count": null
    },
    {
      "cell_type": "markdown",
      "source": [
        "## 1. Your First Python Code\n",
        "\n",
        "Click the ▶️ button to run the cell below:"
      ],
      "metadata": {},
      "execution_count": null
    },
    {
      "cell_type": "code",
      "source": [
        "print(\"Hello from geo!space! 🌍\")\n",
        "print(\"Python is running directly in your browser using Pyodide!\")"
      ],
      "metadata": {},
      "outputs": [],
      "execution_count": null
    },
    {
      "cell_type": "markdown",
      "source": [
        "## 2. Basic Python Operations\n",
        "\n",
        "Python can perform calculations and manipulate data:"
      ],
      "metadata": {},
      "execution_count": null
    },
    {
      "cell_type": "code",
      "source": [
        "# Variables and arithmetic\n",
        "distance_km = 150\n",
        "time_hours = 2.5\n",
        "\n",
        "speed = distance_km / time_hours\n",
        "print(f\"Average speed: {speed:.2f} km/h\")\n",
        "\n",
        "# The last expression is automatically displayed\n",
        "speed"
      ],
      "metadata": {},
      "outputs": [],
      "execution_count": null
    },
    {
      "cell_type": "markdown",
      "source": [
        "## 3. Working with Data\n",
        "\n",
        "Lists, dictionaries, and loops are fundamental in Python:"
      ],
      "metadata": {},
      "execution_count": null
    },
    {
      "cell_type": "code",
      "source": [
        "# Geographic data example\n",
        "cities = [\n",
        "    {\"name\": \"Berlin\", \"lat\": 52.5200, \"lon\": 13.4050, \"population\": 3645000},\n",
        "    {\"name\": \"Paris\", \"lat\": 48.8566, \"lon\": 2.3522, \"population\": 2161000},\n",
        "    {\"name\": \"London\", \"lat\": 51.5074, \"lon\": -0.1278, \"population\": 8982000}\n",
        "]\n",
        "\n",
        "print(\"European Cities:\")\n",
        "print(\"-\" * 50)\n",
        "\n",
        "for city in cities:\n",
        "    print(f\"{city['name']:10} | Population: {city['population']:>10,} | ({city['lat']:.4f}, {city['lon']:.4f})\")\n",
        "\n",
        "# Calculate total population\n",
        "total = sum(c['population'] for c in cities)\n",
        "print(f\"\\nTotal population: {total:,}\")"
      ],
      "metadata": {},
      "outputs": [],
      "execution_count": null
    },
    {
      "cell_type": "markdown",
      "source": [
        "## 4. Functions and Logic\n",
        "\n",
        "Create reusable code with functions:"
      ],
      "metadata": {},
      "execution_count": null
    },
    {
      "cell_type": "code",
      "source": [
        "def haversine_distance(lat1, lon1, lat2, lon2):\n",
        "    \"\"\"Calculate the great circle distance between two points on Earth (in km)\"\"\"\n",
        "    import math\n",
        "    \n",
        "    # Convert to radians\n",
        "    lat1, lon1, lat2, lon2 = map(math.radians, [lat1, lon1, lat2, lon2])\n",
        "    \n",
        "    # Haversine formula\n",
        "    dlat = lat2 - lat1\n",
        "    dlon = lon2 - lon1\n",
        "    a = math.sin(dlat/2)**2 + math.cos(lat1) * math.cos(lat2) * math.sin(dlon/2)**2\n",
        "    c = 2 * math.asin(math.sqrt(a))\n",
        "    \n",
        "    # Earth's radius in kilometers\n",
        "    radius = 6371\n",
        "    return radius * c\n",
        "\n",
        "# Calculate distance between Berlin and Paris\n",
        "berlin = cities[0]\n",
        "paris = cities[1]\n",
        "\n",
        "distance = haversine_distance(berlin['lat'], berlin['lon'], paris['lat'], paris['lon'])\n",
        "print(f\"Distance from {berlin['name']} to {paris['name']}: {distance:.2f} km\")"
      ],
      "metadata": {},
      "outputs": [],
      "execution_count": null
    },
    {
      "cell_type": "markdown",
      "source": [
        "## 5. Working with Text\n",
        "\n",
        "String manipulation and formatting:"
      ],
      "metadata": {},
      "execution_count": null
    },
    {
      "cell_type": "code",
      "source": [
        "# Create a formatted report\n",
        "report = []\n",
        "report.append(\"╔\" + \"═\" * 48 + \"╗\")\n",
        "report.append(\"║\" + \" GEO!SPACE CITY REPORT \".center(48) + \"║\")\n",
        "report.append(\"╠\" + \"═\" * 48 + \"╣\")\n",
        "\n",
        "for city in cities:\n",
        "    name = city['name']\n",
        "    pop_millions = city['population'] / 1_000_000\n",
        "    coords = f\"({city['lat']:.2f}, {city['lon']:.2f})\"\n",
        "    line = f\"║ {name:10} | {pop_millions:4.1f}M people | {coords:16} ║\"\n",
        "    report.append(line)\n",
        "\n",
        "report.append(\"╚\" + \"═\" * 48 + \"╝\")\n",
        "\n",
        "print(\"\\n\".join(report))"
      ],
      "metadata": {},
      "outputs": [],
      "execution_count": null
    },
    {
      "cell_type": "markdown",
      "source": [
        "## 6. Notebook Editor Features\n",
        "\n",
        "The **geo!space** notebook editor includes:\n",
        "\n",
        "### ✨ Key Features:\n",
        "\n",
        "1. **Monaco Editor**: Syntax highlighting and IntelliSense for code cells\n",
        "2. **Real-time Execution**: Run Python code instantly in your browser\n",
        "3. **Markdown Support**: Rich text formatting with headers, lists, code blocks, and more\n",
        "4. **Execution Counter**: Track the order of cell execution with `In [1]:` labels\n",
        "5. **Cell Management**: Add, delete, and reorder cells easily\n",
        "6. **Run All**: Execute all code cells sequentially\n",
        "7. **Clear Outputs**: Reset all outputs and execution counters\n",
        "8. **Auto-save**: Changes are saved automatically\n",
        "9. **Dark/Light Theme**: Automatically adapts to your app theme\n",
        "\n",
        "### 🎯 Try These Actions:\n",
        "\n",
        "- **Add a new cell**: Click the + button above or below any cell\n",
        "- **Delete a cell**: Click the 🗑️ button\n",
        "- **Edit this text**: Double-click on this cell\n",
        "- **Run all cells**: Use the \"Run All\" button in the toolbar\n",
        "- **Clear outputs**: Use the \"Clear Outputs\" button to reset everything"
      ],
      "metadata": {},
      "execution_count": null
    },
    {
      "cell_type": "markdown",
      "source": [
        "## 7. Experiment Yourself!\n",
        "\n",
        "Try modifying the code below or add your own cells:"
      ],
      "metadata": {},
      "execution_count": null
    },
    {
      "cell_type": "code",
      "source": [
        "# Your code here! Try something fun:\n",
        "# - Calculate Fibonacci numbers\n",
        "# - Create a simple ASCII art\n",
        "# - Process some text or numbers\n",
        "# - Anything you like!\n",
        "\n",
        "print(\"Happy coding! 🚀\")"
      ],
      "metadata": {},
      "outputs": [],
      "execution_count": null
    },
    {
      "cell_type": "markdown",
      "source": [
        "## 🎓 Next Steps\n",
        "\n",
        "Now that you've learned the basics:\n",
        "\n",
        "1. **Explore**: Try modifying the code cells above\n",
        "2. **Create**: Make your own notebooks in your workspace\n",
        "3. **Learn**: Python has many powerful libraries available in Pyodide\n",
        "4. **Share**: Save your notebooks and share your discoveries\n",
        "\n",
        "### 📚 Useful Python Resources:\n",
        "\n",
        "- [Python.org Tutorial](https://docs.python.org/3/tutorial/)\n",
        "- [Pyodide Documentation](https://pyodide.org/)\n",
        "- [Jupyter Notebook Documentation](https://jupyter-notebook.readthedocs.io/)\n",
        "\n",
        "---\n",
        "\n",
        "**Happy exploring with geo!space! 🌍✨**"
      ],
      "metadata": {},
      "execution_count": null
    }
  ],
  "metadata": {
    "kernelspec": {
      "display_name": "Python 3",
      "language": "python",
      "name": "python3"
    },
    "language_info": {
      "name": "python",
      "version": "3.11.3"
    }
  },
  "nbformat": 4,
  "nbformat_minor": 4
}
