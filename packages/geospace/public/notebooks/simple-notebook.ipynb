{
  "cells": [
    {
      "cell_type": "markdown",
      "source": [
        "# Input and Output Cells\n",
        "\n",
        "This is a **markdown cell** for text and documentation.\n",
        "\n",
        "Below is a **code cell** - click the ▶️ button to run it:"
      ],
      "metadata": {}
    },
    {
      "cell_type": "code",
      "source": [
        "print('hello')"
      ],
      "execution_count": null,
      "outputs": [],
      "metadata": {}
    }
  ],
  "metadata": {
    "kernelspec": {
      "display_name": "Python 3",
      "language": "python",
      "name": "python3"
    },
    "language_info": {
      "name": "python",
      "version": "3.12.0"
    }
  },
  "nbformat": 4,
  "nbformat_minor": 4
}
