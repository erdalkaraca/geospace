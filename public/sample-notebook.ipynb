{
 "cells": [
  {
   "cell_type": "markdown",
   "metadata": {},
   "source": [
    "# Sample Jupyter Notebook\n",
    "\n",
    "This is a sample notebook to demonstrate the **geo!space** Jupyter notebook editor.\n",
    "\n",
    "## Features\n",
    "\n",
    "- Markdown rendering with `marked` package\n",
    "- Python code execution with `pyodide`\n",
    "- Interactive cell execution"
   ]
  },
  {
   "cell_type": "markdown",
   "metadata": {},
   "source": [
    "## Basic Python Operations"
   ]
  },
  {
   "cell_type": "code",
   "execution_count": null,
   "metadata": {},
   "outputs": [],
   "source": [
    "# Simple arithmetic\n",
    "a = 10\n",
    "b = 20\n",
    "result = a + b\n",
    "print(f\"The sum of {a} and {b} is {result}\")\n",
    "result"
   ]
  },
  {
   "cell_type": "code",
   "execution_count": null,
   "metadata": {},
   "outputs": [],
   "source": [
    "# List operations\n",
    "numbers = [1, 2, 3, 4, 5]\n",
    "squared = [x**2 for x in numbers]\n",
    "print(\"Original:\", numbers)\n",
    "print(\"Squared:\", squared)\n",
    "squared"
   ]
  },
  {
   "cell_type": "markdown",
   "metadata": {},
   "source": [
    "## Working with Functions"
   ]
  },
  {
   "cell_type": "code",
   "execution_count": null,
   "metadata": {},
   "outputs": [],
   "source": [
    "def fibonacci(n):\n",
    "    \"\"\"Generate Fibonacci sequence up to n terms\"\"\"\n",
    "    fib = [0, 1]\n",
    "    for i in range(2, n):\n",
    "        fib.append(fib[i-1] + fib[i-2])\n",
    "    return fib[:n]\n",
    "\n",
    "# Generate first 10 Fibonacci numbers\n",
    "fib_sequence = fibonacci(10)\n",
    "print(\"Fibonacci sequence:\", fib_sequence)\n",
    "fib_sequence"
   ]
  },
  {
   "cell_type": "markdown",
   "metadata": {},
   "source": [
    "## Data Processing Example"
   ]
  },
  {
   "cell_type": "code",
   "execution_count": null,
   "metadata": {},
   "outputs": [],
   "source": [
    "# Dictionary example\n",
    "cities = {\n",
    "    \"New York\": {\"lat\": 40.7128, \"lon\": -74.0060, \"population\": 8336817},\n",
    "    \"London\": {\"lat\": 51.5074, \"lon\": -0.1278, \"population\": 8982000},\n",
    "    \"Tokyo\": {\"lat\": 35.6762, \"lon\": 139.6503, \"population\": 13960000}\n",
    "}\n",
    "\n",
    "for city, data in cities.items():\n",
    "    print(f\"{city}: {data['population']:,} people at ({data['lat']}, {data['lon']})\")\n",
    "\n",
    "# Calculate total population\n",
    "total_pop = sum(city['population'] for city in cities.values())\n",
    "print(f\"\\nTotal population: {total_pop:,}\")\n",
    "total_pop"
   ]
  },
  {
   "cell_type": "markdown",
   "metadata": {},
   "source": [
    "## Conclusion\n",
    "\n",
    "This notebook demonstrates basic Python execution in **geo!space** using Pyodide.\n",
    "\n",
    "You can:\n",
    "1. Run individual cells by clicking the play button\n",
    "2. Run all cells using \"Run All\" button\n",
    "3. View outputs directly in the notebook"
   ]
  }
 ],
 "metadata": {
  "kernelspec": {
   "display_name": "Python 3",
   "language": "python",
   "name": "python3"
  },
  "language_info": {
   "codemirror_mode": {
    "name": "ipython",
    "version": 3
   },
   "file_extension": ".py",
   "mimetype": "text/x-python",
   "name": "python",
   "nbconvert_exporter": "python",
   "pygments_lexer": "ipython3",
   "version": "3.11.0"
  }
 },
 "nbformat": 4,
 "nbformat_minor": 4
}
